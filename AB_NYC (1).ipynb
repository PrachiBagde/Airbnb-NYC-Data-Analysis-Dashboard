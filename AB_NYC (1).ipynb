{
 "cells": [
  {
   "cell_type": "code",
   "execution_count": 1,
   "id": "c8d20a43-1e24-4428-bab7-e83cef68c4bb",
   "metadata": {},
   "outputs": [],
   "source": [
    "import pandas as pd\n",
    "import numpy as np\n",
    "import matplotlib.pyplot as plt\n",
    "import seaborn as sns"
   ]
  },
  {
   "cell_type": "code",
   "execution_count": 3,
   "id": "ed2c4385-c75c-4674-983e-e7ae149cc2f5",
   "metadata": {},
   "outputs": [],
   "source": [
    "df = pd.read_csv(\"AB_NYC_proper.csv\")"
   ]
  },
  {
   "cell_type": "code",
   "execution_count": 5,
   "id": "ac3b13f2-e133-474b-adbe-dc8bede439ae",
   "metadata": {},
   "outputs": [
    {
     "data": {
      "text/html": [
       "<div>\n",
       "<style scoped>\n",
       "    .dataframe tbody tr th:only-of-type {\n",
       "        vertical-align: middle;\n",
       "    }\n",
       "\n",
       "    .dataframe tbody tr th {\n",
       "        vertical-align: top;\n",
       "    }\n",
       "\n",
       "    .dataframe thead th {\n",
       "        text-align: right;\n",
       "    }\n",
       "</style>\n",
       "<table border=\"1\" class=\"dataframe\">\n",
       "  <thead>\n",
       "    <tr style=\"text-align: right;\">\n",
       "      <th></th>\n",
       "      <th>id</th>\n",
       "      <th>name</th>\n",
       "      <th>host_id</th>\n",
       "      <th>host_name</th>\n",
       "      <th>neighbourhood_group</th>\n",
       "      <th>proper_neighbourhoof_grp</th>\n",
       "      <th>Proper_trim_neighbourhood_grp</th>\n",
       "      <th>neighbourhood</th>\n",
       "      <th>Trim_neighbourhood</th>\n",
       "      <th>Proper_trim_neighbourhood</th>\n",
       "      <th>...</th>\n",
       "      <th>new_minimum_nights</th>\n",
       "      <th>Outlier_or_not2</th>\n",
       "      <th>number_of_reviews</th>\n",
       "      <th>last_review</th>\n",
       "      <th>reviews_per_month</th>\n",
       "      <th>calculated_host_listings_count</th>\n",
       "      <th>availability_365</th>\n",
       "      <th>availability_366</th>\n",
       "      <th>Unnamed: 25</th>\n",
       "      <th>Unnamed: 26</th>\n",
       "    </tr>\n",
       "  </thead>\n",
       "  <tbody>\n",
       "    <tr>\n",
       "      <th>0</th>\n",
       "      <td>2539.0</td>\n",
       "      <td>Clean &amp; quiet apt home by the park</td>\n",
       "      <td>2787.0</td>\n",
       "      <td>John</td>\n",
       "      <td>Brooklyn</td>\n",
       "      <td>Brooklyn</td>\n",
       "      <td>Brooklyn</td>\n",
       "      <td>Kensington</td>\n",
       "      <td>Kensington</td>\n",
       "      <td>Kensington</td>\n",
       "      <td>...</td>\n",
       "      <td>1.0</td>\n",
       "      <td>ok</td>\n",
       "      <td>9.0</td>\n",
       "      <td>19-10-2018</td>\n",
       "      <td>0.21</td>\n",
       "      <td>6.0</td>\n",
       "      <td>365.0</td>\n",
       "      <td>ok</td>\n",
       "      <td>799.0</td>\n",
       "      <td>45.0</td>\n",
       "    </tr>\n",
       "    <tr>\n",
       "      <th>1</th>\n",
       "      <td>2595.0</td>\n",
       "      <td>Skylit Midtown Castle</td>\n",
       "      <td>2845.0</td>\n",
       "      <td>Jennifer</td>\n",
       "      <td>Manhattan</td>\n",
       "      <td>Manhattan</td>\n",
       "      <td>Manhattan</td>\n",
       "      <td>Midtown</td>\n",
       "      <td>Midtown</td>\n",
       "      <td>Midtown</td>\n",
       "      <td>...</td>\n",
       "      <td>1.0</td>\n",
       "      <td>ok</td>\n",
       "      <td>45.0</td>\n",
       "      <td>21-05-2019</td>\n",
       "      <td>0.38</td>\n",
       "      <td>2.0</td>\n",
       "      <td>355.0</td>\n",
       "      <td>ok</td>\n",
       "      <td>NaN</td>\n",
       "      <td>NaN</td>\n",
       "    </tr>\n",
       "    <tr>\n",
       "      <th>2</th>\n",
       "      <td>3647.0</td>\n",
       "      <td>THE VILLAGE OF HARLEM....NEW YORK !</td>\n",
       "      <td>4632.0</td>\n",
       "      <td>Elisabeth</td>\n",
       "      <td>Manhattan</td>\n",
       "      <td>Manhattan</td>\n",
       "      <td>Manhattan</td>\n",
       "      <td>Harlem</td>\n",
       "      <td>Harlem</td>\n",
       "      <td>Harlem</td>\n",
       "      <td>...</td>\n",
       "      <td>3.0</td>\n",
       "      <td>ok</td>\n",
       "      <td>0.0</td>\n",
       "      <td>NaN</td>\n",
       "      <td>0.00</td>\n",
       "      <td>1.0</td>\n",
       "      <td>365.0</td>\n",
       "      <td>ok</td>\n",
       "      <td>NaN</td>\n",
       "      <td>NaN</td>\n",
       "    </tr>\n",
       "    <tr>\n",
       "      <th>3</th>\n",
       "      <td>3831.0</td>\n",
       "      <td>Cozy Entire Floor of Brownstone</td>\n",
       "      <td>4869.0</td>\n",
       "      <td>LisaRoxanne</td>\n",
       "      <td>Brooklyn</td>\n",
       "      <td>Brooklyn</td>\n",
       "      <td>Brooklyn</td>\n",
       "      <td>Clinton Hill</td>\n",
       "      <td>Clinton Hill</td>\n",
       "      <td>Clinton Hill</td>\n",
       "      <td>...</td>\n",
       "      <td>1.0</td>\n",
       "      <td>ok</td>\n",
       "      <td>270.0</td>\n",
       "      <td>05-07-2019</td>\n",
       "      <td>4.64</td>\n",
       "      <td>1.0</td>\n",
       "      <td>194.0</td>\n",
       "      <td>ok</td>\n",
       "      <td>NaN</td>\n",
       "      <td>NaN</td>\n",
       "    </tr>\n",
       "    <tr>\n",
       "      <th>4</th>\n",
       "      <td>5022.0</td>\n",
       "      <td>Entire Apt: Spacious Studio/Loft by central park</td>\n",
       "      <td>7192.0</td>\n",
       "      <td>Laura</td>\n",
       "      <td>Manhattan</td>\n",
       "      <td>Manhattan</td>\n",
       "      <td>Manhattan</td>\n",
       "      <td>East Harlem</td>\n",
       "      <td>East Harlem</td>\n",
       "      <td>East Harlem</td>\n",
       "      <td>...</td>\n",
       "      <td>10.0</td>\n",
       "      <td>ok</td>\n",
       "      <td>9.0</td>\n",
       "      <td>19-11-2018</td>\n",
       "      <td>0.10</td>\n",
       "      <td>1.0</td>\n",
       "      <td>0.0</td>\n",
       "      <td>ok</td>\n",
       "      <td>NaN</td>\n",
       "      <td>NaN</td>\n",
       "    </tr>\n",
       "  </tbody>\n",
       "</table>\n",
       "<p>5 rows × 27 columns</p>\n",
       "</div>"
      ],
      "text/plain": [
       "       id                                              name  host_id  \\\n",
       "0  2539.0                Clean & quiet apt home by the park   2787.0   \n",
       "1  2595.0                             Skylit Midtown Castle   2845.0   \n",
       "2  3647.0               THE VILLAGE OF HARLEM....NEW YORK !   4632.0   \n",
       "3  3831.0                   Cozy Entire Floor of Brownstone   4869.0   \n",
       "4  5022.0  Entire Apt: Spacious Studio/Loft by central park   7192.0   \n",
       "\n",
       "     host_name neighbourhood_group proper_neighbourhoof_grp  \\\n",
       "0         John            Brooklyn                 Brooklyn   \n",
       "1     Jennifer           Manhattan                Manhattan   \n",
       "2    Elisabeth           Manhattan                Manhattan   \n",
       "3  LisaRoxanne            Brooklyn                 Brooklyn   \n",
       "4        Laura           Manhattan                Manhattan   \n",
       "\n",
       "  Proper_trim_neighbourhood_grp neighbourhood Trim_neighbourhood  \\\n",
       "0                      Brooklyn    Kensington         Kensington   \n",
       "1                     Manhattan       Midtown            Midtown   \n",
       "2                     Manhattan        Harlem             Harlem   \n",
       "3                      Brooklyn  Clinton Hill       Clinton Hill   \n",
       "4                     Manhattan   East Harlem        East Harlem   \n",
       "\n",
       "  Proper_trim_neighbourhood  ...  new_minimum_nights  Outlier_or_not2  \\\n",
       "0                Kensington  ...                 1.0               ok   \n",
       "1                   Midtown  ...                 1.0               ok   \n",
       "2                    Harlem  ...                 3.0               ok   \n",
       "3              Clinton Hill  ...                 1.0               ok   \n",
       "4               East Harlem  ...                10.0               ok   \n",
       "\n",
       "  number_of_reviews  last_review  reviews_per_month  \\\n",
       "0               9.0   19-10-2018               0.21   \n",
       "1              45.0   21-05-2019               0.38   \n",
       "2               0.0          NaN               0.00   \n",
       "3             270.0   05-07-2019               4.64   \n",
       "4               9.0   19-11-2018               0.10   \n",
       "\n",
       "  calculated_host_listings_count  availability_365  availability_366  \\\n",
       "0                            6.0             365.0                ok   \n",
       "1                            2.0             355.0                ok   \n",
       "2                            1.0             365.0                ok   \n",
       "3                            1.0             194.0                ok   \n",
       "4                            1.0               0.0                ok   \n",
       "\n",
       "  Unnamed: 25  Unnamed: 26  \n",
       "0       799.0         45.0  \n",
       "1         NaN          NaN  \n",
       "2         NaN          NaN  \n",
       "3         NaN          NaN  \n",
       "4         NaN          NaN  \n",
       "\n",
       "[5 rows x 27 columns]"
      ]
     },
     "execution_count": 5,
     "metadata": {},
     "output_type": "execute_result"
    }
   ],
   "source": [
    "df.head()"
   ]
  },
  {
   "cell_type": "code",
   "execution_count": 7,
   "id": "e958de89-7d59-4a1d-a93c-9d956412bc69",
   "metadata": {},
   "outputs": [
    {
     "name": "stdout",
     "output_type": "stream",
     "text": [
      "<class 'pandas.core.frame.DataFrame'>\n",
      "RangeIndex: 48896 entries, 0 to 48895\n",
      "Data columns (total 27 columns):\n",
      " #   Column                          Non-Null Count  Dtype  \n",
      "---  ------                          --------------  -----  \n",
      " 0   id                              48895 non-null  float64\n",
      " 1   name                            48895 non-null  object \n",
      " 2   host_id                         48895 non-null  float64\n",
      " 3   host_name                       48895 non-null  object \n",
      " 4   neighbourhood_group             48895 non-null  object \n",
      " 5   proper_neighbourhoof_grp        48895 non-null  object \n",
      " 6   Proper_trim_neighbourhood_grp   48895 non-null  object \n",
      " 7   neighbourhood                   48895 non-null  object \n",
      " 8   Trim_neighbourhood              48895 non-null  object \n",
      " 9   Proper_trim_neighbourhood       48895 non-null  object \n",
      " 10  latitude                        48895 non-null  float64\n",
      " 11  longitude                       48895 non-null  float64\n",
      " 12  room_type                       48895 non-null  object \n",
      " 13   price                          48895 non-null  float64\n",
      " 14   new_price                      48895 non-null  float64\n",
      " 15   Outlier_or_not                 48896 non-null  object \n",
      " 16  minimum_nights                  48895 non-null  float64\n",
      " 17  new_minimum_nights              48895 non-null  float64\n",
      " 18  Outlier_or_not2                 48896 non-null  object \n",
      " 19  number_of_reviews               48895 non-null  float64\n",
      " 20  last_review                     38843 non-null  object \n",
      " 21  reviews_per_month               48895 non-null  float64\n",
      " 22  calculated_host_listings_count  48895 non-null  float64\n",
      " 23  availability_365                48895 non-null  float64\n",
      " 24  availability_366                48895 non-null  object \n",
      " 25  Unnamed: 25                     1 non-null      float64\n",
      " 26  Unnamed: 26                     1 non-null      float64\n",
      "dtypes: float64(14), object(13)\n",
      "memory usage: 10.1+ MB\n"
     ]
    }
   ],
   "source": [
    "df.info()"
   ]
  },
  {
   "cell_type": "code",
   "execution_count": 9,
   "id": "aea32e7b-3c92-4f59-8b2f-55929c287a16",
   "metadata": {},
   "outputs": [],
   "source": [
    "df.drop(['Unnamed: 25', 'Unnamed: 26'], axis=1, inplace=True) #deleting unneccessary columns"
   ]
  },
  {
   "cell_type": "code",
   "execution_count": 11,
   "id": "795425f5-a804-45e0-9a29-ca4146c28dfd",
   "metadata": {},
   "outputs": [
    {
     "name": "stdout",
     "output_type": "stream",
     "text": [
      "<class 'pandas.core.frame.DataFrame'>\n",
      "RangeIndex: 48896 entries, 0 to 48895\n",
      "Data columns (total 25 columns):\n",
      " #   Column                          Non-Null Count  Dtype  \n",
      "---  ------                          --------------  -----  \n",
      " 0   id                              48895 non-null  float64\n",
      " 1   name                            48895 non-null  object \n",
      " 2   host_id                         48895 non-null  float64\n",
      " 3   host_name                       48895 non-null  object \n",
      " 4   neighbourhood_group             48895 non-null  object \n",
      " 5   proper_neighbourhoof_grp        48895 non-null  object \n",
      " 6   Proper_trim_neighbourhood_grp   48895 non-null  object \n",
      " 7   neighbourhood                   48895 non-null  object \n",
      " 8   Trim_neighbourhood              48895 non-null  object \n",
      " 9   Proper_trim_neighbourhood       48895 non-null  object \n",
      " 10  latitude                        48895 non-null  float64\n",
      " 11  longitude                       48895 non-null  float64\n",
      " 12  room_type                       48895 non-null  object \n",
      " 13   price                          48895 non-null  float64\n",
      " 14   new_price                      48895 non-null  float64\n",
      " 15   Outlier_or_not                 48896 non-null  object \n",
      " 16  minimum_nights                  48895 non-null  float64\n",
      " 17  new_minimum_nights              48895 non-null  float64\n",
      " 18  Outlier_or_not2                 48896 non-null  object \n",
      " 19  number_of_reviews               48895 non-null  float64\n",
      " 20  last_review                     38843 non-null  object \n",
      " 21  reviews_per_month               48895 non-null  float64\n",
      " 22  calculated_host_listings_count  48895 non-null  float64\n",
      " 23  availability_365                48895 non-null  float64\n",
      " 24  availability_366                48895 non-null  object \n",
      "dtypes: float64(12), object(13)\n",
      "memory usage: 9.3+ MB\n"
     ]
    }
   ],
   "source": [
    "df.info()"
   ]
  },
  {
   "cell_type": "code",
   "execution_count": 13,
   "id": "e484d949-278f-4117-a96f-87774903abba",
   "metadata": {},
   "outputs": [
    {
     "data": {
      "text/plain": [
       "id                                    1\n",
       "name                                  1\n",
       "host_id                               1\n",
       "host_name                             1\n",
       "neighbourhood_group                   1\n",
       "proper_neighbourhoof_grp              1\n",
       "Proper_trim_neighbourhood_grp         1\n",
       "neighbourhood                         1\n",
       "Trim_neighbourhood                    1\n",
       "Proper_trim_neighbourhood             1\n",
       "latitude                              1\n",
       "longitude                             1\n",
       "room_type                             1\n",
       " price                                1\n",
       " new_price                            1\n",
       " Outlier_or_not                       0\n",
       "minimum_nights                        1\n",
       "new_minimum_nights                    1\n",
       "Outlier_or_not2                       0\n",
       "number_of_reviews                     1\n",
       "last_review                       10053\n",
       "reviews_per_month                     1\n",
       "calculated_host_listings_count        1\n",
       "availability_365                      1\n",
       "availability_366                      1\n",
       "dtype: int64"
      ]
     },
     "execution_count": 13,
     "metadata": {},
     "output_type": "execute_result"
    }
   ],
   "source": [
    "df.isnull().sum()"
   ]
  },
  {
   "cell_type": "code",
   "execution_count": 15,
   "id": "34a95d54-54d2-403d-8f69-637e33f63f29",
   "metadata": {},
   "outputs": [],
   "source": [
    "df.columns = df.columns.str.strip()  # to trim white spaces before few columns"
   ]
  },
  {
   "cell_type": "code",
   "execution_count": 17,
   "id": "5ebe677f-08ec-4559-87cf-e6f38e2fb281",
   "metadata": {},
   "outputs": [
    {
     "name": "stdout",
     "output_type": "stream",
     "text": [
      "<class 'pandas.core.frame.DataFrame'>\n",
      "RangeIndex: 48896 entries, 0 to 48895\n",
      "Data columns (total 25 columns):\n",
      " #   Column                          Non-Null Count  Dtype  \n",
      "---  ------                          --------------  -----  \n",
      " 0   id                              48895 non-null  float64\n",
      " 1   name                            48895 non-null  object \n",
      " 2   host_id                         48895 non-null  float64\n",
      " 3   host_name                       48895 non-null  object \n",
      " 4   neighbourhood_group             48895 non-null  object \n",
      " 5   proper_neighbourhoof_grp        48895 non-null  object \n",
      " 6   Proper_trim_neighbourhood_grp   48895 non-null  object \n",
      " 7   neighbourhood                   48895 non-null  object \n",
      " 8   Trim_neighbourhood              48895 non-null  object \n",
      " 9   Proper_trim_neighbourhood       48895 non-null  object \n",
      " 10  latitude                        48895 non-null  float64\n",
      " 11  longitude                       48895 non-null  float64\n",
      " 12  room_type                       48895 non-null  object \n",
      " 13  price                           48895 non-null  float64\n",
      " 14  new_price                       48895 non-null  float64\n",
      " 15  Outlier_or_not                  48896 non-null  object \n",
      " 16  minimum_nights                  48895 non-null  float64\n",
      " 17  new_minimum_nights              48895 non-null  float64\n",
      " 18  Outlier_or_not2                 48896 non-null  object \n",
      " 19  number_of_reviews               48895 non-null  float64\n",
      " 20  last_review                     38843 non-null  object \n",
      " 21  reviews_per_month               48895 non-null  float64\n",
      " 22  calculated_host_listings_count  48895 non-null  float64\n",
      " 23  availability_365                48895 non-null  float64\n",
      " 24  availability_366                48895 non-null  object \n",
      "dtypes: float64(12), object(13)\n",
      "memory usage: 9.3+ MB\n"
     ]
    }
   ],
   "source": [
    "df.info()"
   ]
  },
  {
   "cell_type": "code",
   "execution_count": 19,
   "id": "3d85f585-cf53-47be-beb6-895e56c3decd",
   "metadata": {},
   "outputs": [
    {
     "data": {
      "text/plain": [
       "dtype('float64')"
      ]
     },
     "execution_count": 19,
     "metadata": {},
     "output_type": "execute_result"
    }
   ],
   "source": [
    "df['price'].dtype"
   ]
  },
  {
   "cell_type": "code",
   "execution_count": 21,
   "id": "cbd2108d-a58a-4753-866c-cc0edd2aa13e",
   "metadata": {},
   "outputs": [],
   "source": [
    "df[\"price\"] = pd.to_numeric(df[\"price\"], errors=\"coerce\")"
   ]
  },
  {
   "cell_type": "code",
   "execution_count": 23,
   "id": "63b0d7f1-1f0d-42b3-b974-57456e7e11b5",
   "metadata": {},
   "outputs": [
    {
     "data": {
      "text/plain": [
       "dtype('float64')"
      ]
     },
     "execution_count": 23,
     "metadata": {},
     "output_type": "execute_result"
    }
   ],
   "source": [
    "df['price'].dtype"
   ]
  },
  {
   "cell_type": "markdown",
   "id": "bece9d6d-9e0d-457e-ab52-1fccdd22e660",
   "metadata": {},
   "source": [
    "## Exploratory Data Analysis (EDA) Price Analysis:"
   ]
  },
  {
   "cell_type": "markdown",
   "id": "b0a3cb4b-c3bc-43e2-bc43-b7cb42567af1",
   "metadata": {},
   "source": [
    "### Price Analysis:"
   ]
  },
  {
   "cell_type": "markdown",
   "id": "8d51b2a3-dd5b-4426-89d9-3a8b7892b318",
   "metadata": {},
   "source": [
    "#### Average price by borough (Manhattan, Brooklyn, etc.)"
   ]
  },
  {
   "cell_type": "code",
   "execution_count": 28,
   "id": "8565c9fe-f1be-4a50-a18a-b7780bef7953",
   "metadata": {},
   "outputs": [],
   "source": [
    "average_price_by_borough = df.groupby('Proper_trim_neighbourhood_grp')['new_price'].mean().sort_values(ascending = False)"
   ]
  },
  {
   "cell_type": "code",
   "execution_count": 30,
   "id": "159e8ced-47ee-4b92-ab89-ad27e842db48",
   "metadata": {},
   "outputs": [
    {
     "name": "stdout",
     "output_type": "stream",
     "text": [
      "Proper_trim_neighbourhood_grp\n",
      "Manhattan        182.952634\n",
      "Brooklyn         119.369280\n",
      "Staten Island    101.798928\n",
      "Queens            96.095305\n",
      "Bronx             85.752521\n",
      "Name: new_price, dtype: float64\n"
     ]
    }
   ],
   "source": [
    "print(average_price_by_borough)"
   ]
  },
  {
   "cell_type": "markdown",
   "id": "bfb0c87c-3661-4d3a-a5bf-cbb0a20eb28b",
   "metadata": {},
   "source": [
    "\"Manhattan has the priciest rooms available.\""
   ]
  },
  {
   "cell_type": "markdown",
   "id": "99657dab-f770-4a20-b8a0-39abb87f793e",
   "metadata": {},
   "source": [
    "#### Which neighborhoods have the highest & lowest prices?"
   ]
  },
  {
   "cell_type": "code",
   "execution_count": 34,
   "id": "f0ea6a91-b5c1-4c58-8052-3b61ba6d9b6f",
   "metadata": {},
   "outputs": [],
   "source": [
    "average_price_by_neighbourhood = df.groupby(\"Proper_trim_neighbourhood\")['new_price'].mean().sort_values(ascending = False)"
   ]
  },
  {
   "cell_type": "code",
   "execution_count": 36,
   "id": "f9c131d3-a6eb-4796-ae63-8aed8881133f",
   "metadata": {},
   "outputs": [
    {
     "name": "stdout",
     "output_type": "stream",
     "text": [
      "Proper_trim_neighbourhood\n",
      "Fort Wadsworth       799.000000\n",
      "Woodrow              700.000000\n",
      "Tribeca              355.367232\n",
      "Sea Gate             316.142857\n",
      "Flatiron District    298.725000\n",
      "Prince'S Bay         296.750000\n",
      "Riverdale            287.363636\n",
      "Noho                 282.948718\n",
      "Neponsit             274.666667\n",
      "Midtown              270.519741\n",
      "Name: new_price, dtype: float64\n"
     ]
    }
   ],
   "source": [
    "highest_price = average_price_by_neighbourhood.head(10)\n",
    "print(highest_price)"
   ]
  },
  {
   "cell_type": "code",
   "execution_count": 38,
   "id": "56bffbcf-43c8-49d9-800a-aa608c72ae7b",
   "metadata": {},
   "outputs": [
    {
     "name": "stdout",
     "output_type": "stream",
     "text": [
      "Proper_trim_neighbourhood\n",
      "Mount Eden        58.500000\n",
      "Concord           58.192308\n",
      "Grant City        57.666667\n",
      "New Dorp Beach    57.400000\n",
      "Bronxdale         57.105263\n",
      "New Dorp          57.000000\n",
      "Soundview         53.466667\n",
      "Tremont           51.545455\n",
      "Hunts Point       50.500000\n",
      "Bull'S Head       47.333333\n",
      "Name: new_price, dtype: float64\n"
     ]
    }
   ],
   "source": [
    "lowest_price = average_price_by_neighbourhood.tail(10)\n",
    "print(lowest_price)"
   ]
  },
  {
   "cell_type": "markdown",
   "id": "780e0c84-a0b1-4e7c-8f8e-f91ac29e2c99",
   "metadata": {},
   "source": [
    "\"here we get know that by neighbourhood top 10 areas which has priciest room available are: Fort Wadsworth, Woodrow, Tribeca, Sea Gate, Flatiron District, Prince'S Bay, Riverdale, Noho, Neponsit, Midtown\"\r\n",
    "\"and top 10 areas which has cheapest room available are: Mount Eden, Concord, Grant City, New Dorp Beach, Bronxdale, Grant City, New Dorp, Soundview, Tremont ,Hunts Point Bull's Head\"\r\n",
    " 47.3333330.519741\""
   ]
  },
  {
   "cell_type": "markdown",
   "id": "081d2135-4034-4566-a68f-1e9d30f4f402",
   "metadata": {},
   "source": [
    "#### Are there overpriced listings compared to the market?"
   ]
  },
  {
   "cell_type": "code",
   "execution_count": 43,
   "id": "488b238d-b81a-421a-b192-0b2babce71ea",
   "metadata": {},
   "outputs": [
    {
     "data": {
      "text/html": [
       "<div>\n",
       "<style scoped>\n",
       "    .dataframe tbody tr th:only-of-type {\n",
       "        vertical-align: middle;\n",
       "    }\n",
       "\n",
       "    .dataframe tbody tr th {\n",
       "        vertical-align: top;\n",
       "    }\n",
       "\n",
       "    .dataframe thead th {\n",
       "        text-align: right;\n",
       "    }\n",
       "</style>\n",
       "<table border=\"1\" class=\"dataframe\">\n",
       "  <thead>\n",
       "    <tr style=\"text-align: right;\">\n",
       "      <th></th>\n",
       "      <th>id</th>\n",
       "      <th>host_id</th>\n",
       "      <th>latitude</th>\n",
       "      <th>longitude</th>\n",
       "      <th>price</th>\n",
       "      <th>new_price</th>\n",
       "      <th>minimum_nights</th>\n",
       "      <th>new_minimum_nights</th>\n",
       "      <th>number_of_reviews</th>\n",
       "      <th>reviews_per_month</th>\n",
       "      <th>calculated_host_listings_count</th>\n",
       "      <th>availability_365</th>\n",
       "    </tr>\n",
       "  </thead>\n",
       "  <tbody>\n",
       "    <tr>\n",
       "      <th>count</th>\n",
       "      <td>4.889500e+04</td>\n",
       "      <td>4.889500e+04</td>\n",
       "      <td>48895.000000</td>\n",
       "      <td>48895.000000</td>\n",
       "      <td>48895.000000</td>\n",
       "      <td>48895.000000</td>\n",
       "      <td>48895.000000</td>\n",
       "      <td>48895.000000</td>\n",
       "      <td>48895.000000</td>\n",
       "      <td>48895.000000</td>\n",
       "      <td>48895.000000</td>\n",
       "      <td>48895.000000</td>\n",
       "    </tr>\n",
       "    <tr>\n",
       "      <th>mean</th>\n",
       "      <td>1.901714e+07</td>\n",
       "      <td>6.762001e+07</td>\n",
       "      <td>40.728949</td>\n",
       "      <td>-73.952170</td>\n",
       "      <td>152.720687</td>\n",
       "      <td>143.956233</td>\n",
       "      <td>7.029962</td>\n",
       "      <td>6.116760</td>\n",
       "      <td>23.274466</td>\n",
       "      <td>1.090910</td>\n",
       "      <td>7.143982</td>\n",
       "      <td>112.781327</td>\n",
       "    </tr>\n",
       "    <tr>\n",
       "      <th>std</th>\n",
       "      <td>1.098311e+07</td>\n",
       "      <td>7.861097e+07</td>\n",
       "      <td>0.054530</td>\n",
       "      <td>0.046157</td>\n",
       "      <td>240.154170</td>\n",
       "      <td>121.935067</td>\n",
       "      <td>20.510550</td>\n",
       "      <td>9.244957</td>\n",
       "      <td>44.550582</td>\n",
       "      <td>1.597283</td>\n",
       "      <td>32.952519</td>\n",
       "      <td>131.622289</td>\n",
       "    </tr>\n",
       "    <tr>\n",
       "      <th>min</th>\n",
       "      <td>2.539000e+03</td>\n",
       "      <td>2.438000e+03</td>\n",
       "      <td>40.499790</td>\n",
       "      <td>-74.244420</td>\n",
       "      <td>0.000000</td>\n",
       "      <td>0.000000</td>\n",
       "      <td>1.000000</td>\n",
       "      <td>1.000000</td>\n",
       "      <td>0.000000</td>\n",
       "      <td>0.000000</td>\n",
       "      <td>1.000000</td>\n",
       "      <td>0.000000</td>\n",
       "    </tr>\n",
       "    <tr>\n",
       "      <th>25%</th>\n",
       "      <td>9.471945e+06</td>\n",
       "      <td>7.822033e+06</td>\n",
       "      <td>40.690100</td>\n",
       "      <td>-73.983070</td>\n",
       "      <td>69.000000</td>\n",
       "      <td>69.000000</td>\n",
       "      <td>1.000000</td>\n",
       "      <td>1.000000</td>\n",
       "      <td>1.000000</td>\n",
       "      <td>0.040000</td>\n",
       "      <td>1.000000</td>\n",
       "      <td>0.000000</td>\n",
       "    </tr>\n",
       "    <tr>\n",
       "      <th>50%</th>\n",
       "      <td>1.967728e+07</td>\n",
       "      <td>3.079382e+07</td>\n",
       "      <td>40.723070</td>\n",
       "      <td>-73.955680</td>\n",
       "      <td>106.000000</td>\n",
       "      <td>106.000000</td>\n",
       "      <td>3.000000</td>\n",
       "      <td>3.000000</td>\n",
       "      <td>5.000000</td>\n",
       "      <td>0.370000</td>\n",
       "      <td>1.000000</td>\n",
       "      <td>45.000000</td>\n",
       "    </tr>\n",
       "    <tr>\n",
       "      <th>75%</th>\n",
       "      <td>2.915218e+07</td>\n",
       "      <td>1.074344e+08</td>\n",
       "      <td>40.763115</td>\n",
       "      <td>-73.936275</td>\n",
       "      <td>175.000000</td>\n",
       "      <td>175.000000</td>\n",
       "      <td>5.000000</td>\n",
       "      <td>5.000000</td>\n",
       "      <td>24.000000</td>\n",
       "      <td>1.580000</td>\n",
       "      <td>2.000000</td>\n",
       "      <td>227.000000</td>\n",
       "    </tr>\n",
       "    <tr>\n",
       "      <th>max</th>\n",
       "      <td>3.648724e+07</td>\n",
       "      <td>2.743213e+08</td>\n",
       "      <td>40.913060</td>\n",
       "      <td>-73.712990</td>\n",
       "      <td>10000.000000</td>\n",
       "      <td>799.000000</td>\n",
       "      <td>1250.000000</td>\n",
       "      <td>45.000000</td>\n",
       "      <td>629.000000</td>\n",
       "      <td>58.500000</td>\n",
       "      <td>327.000000</td>\n",
       "      <td>365.000000</td>\n",
       "    </tr>\n",
       "  </tbody>\n",
       "</table>\n",
       "</div>"
      ],
      "text/plain": [
       "                 id       host_id      latitude     longitude         price  \\\n",
       "count  4.889500e+04  4.889500e+04  48895.000000  48895.000000  48895.000000   \n",
       "mean   1.901714e+07  6.762001e+07     40.728949    -73.952170    152.720687   \n",
       "std    1.098311e+07  7.861097e+07      0.054530      0.046157    240.154170   \n",
       "min    2.539000e+03  2.438000e+03     40.499790    -74.244420      0.000000   \n",
       "25%    9.471945e+06  7.822033e+06     40.690100    -73.983070     69.000000   \n",
       "50%    1.967728e+07  3.079382e+07     40.723070    -73.955680    106.000000   \n",
       "75%    2.915218e+07  1.074344e+08     40.763115    -73.936275    175.000000   \n",
       "max    3.648724e+07  2.743213e+08     40.913060    -73.712990  10000.000000   \n",
       "\n",
       "          new_price  minimum_nights  new_minimum_nights  number_of_reviews  \\\n",
       "count  48895.000000    48895.000000        48895.000000       48895.000000   \n",
       "mean     143.956233        7.029962            6.116760          23.274466   \n",
       "std      121.935067       20.510550            9.244957          44.550582   \n",
       "min        0.000000        1.000000            1.000000           0.000000   \n",
       "25%       69.000000        1.000000            1.000000           1.000000   \n",
       "50%      106.000000        3.000000            3.000000           5.000000   \n",
       "75%      175.000000        5.000000            5.000000          24.000000   \n",
       "max      799.000000     1250.000000           45.000000         629.000000   \n",
       "\n",
       "       reviews_per_month  calculated_host_listings_count  availability_365  \n",
       "count       48895.000000                    48895.000000      48895.000000  \n",
       "mean            1.090910                        7.143982        112.781327  \n",
       "std             1.597283                       32.952519        131.622289  \n",
       "min             0.000000                        1.000000          0.000000  \n",
       "25%             0.040000                        1.000000          0.000000  \n",
       "50%             0.370000                        1.000000         45.000000  \n",
       "75%             1.580000                        2.000000        227.000000  \n",
       "max            58.500000                      327.000000        365.000000  "
      ]
     },
     "execution_count": 43,
     "metadata": {},
     "output_type": "execute_result"
    }
   ],
   "source": [
    "df.describe()"
   ]
  },
  {
   "cell_type": "code",
   "execution_count": 45,
   "id": "b6b1e2a5-f893-4eb0-adc9-d01654890f7f",
   "metadata": {},
   "outputs": [
    {
     "name": "stdout",
     "output_type": "stream",
     "text": [
      "106\n",
      "334.0\n"
     ]
    }
   ],
   "source": [
    "# to calculate the outlier\n",
    "q1 = 69\n",
    "q3 = 175\n",
    "IQR = q3 - q1\n",
    "upper_bound = q3 + 1.5 * IQR    # formula to get upper bound \n",
    "print(IQR)\n",
    "print(upper_bound)"
   ]
  },
  {
   "cell_type": "code",
   "execution_count": 47,
   "id": "6d70ff2f-c896-4050-91c4-c181c6b1bc3e",
   "metadata": {},
   "outputs": [
    {
     "name": "stdout",
     "output_type": "stream",
     "text": [
      "Number of overpriced listings: 2972\n"
     ]
    }
   ],
   "source": [
    "overpriced_listings_count = df[df[\"new_price\"] > upper_bound].shape[0]  # using shape[0] to get one dimentinal data only, without it it proved a lot unnecessary information\n",
    "print(\"Number of overpriced listings:\", overpriced_listings_count)"
   ]
  },
  {
   "cell_type": "markdown",
   "id": "ad1a18eb-382e-487f-b049-0398cb0135c0",
   "metadata": {},
   "source": [
    "### Availability & Demand:"
   ]
  },
  {
   "cell_type": "markdown",
   "id": "60fa0c1b-d661-44d7-bc72-6ca39c4c550b",
   "metadata": {},
   "source": [
    "#### Which borough has the highest/lowest Airbnb listings?"
   ]
  },
  {
   "cell_type": "code",
   "execution_count": 51,
   "id": "e4707202-dace-4511-b10b-da0183f44c81",
   "metadata": {},
   "outputs": [
    {
     "name": "stdout",
     "output_type": "stream",
     "text": [
      "Proper_trim_neighbourhood_grp\n",
      "Manhattan        21661\n",
      "Brooklyn         20104\n",
      "Queens            5666\n",
      "Bronx             1091\n",
      "Staten Island      373\n",
      "Name: count, dtype: int64\n"
     ]
    }
   ],
   "source": [
    "listing_by_borough = df['Proper_trim_neighbourhood_grp'].value_counts()\n",
    "print(listing_by_borough)"
   ]
  },
  {
   "cell_type": "markdown",
   "id": "9ad7e42e-098e-45a8-8c8e-0643e17394ff",
   "metadata": {},
   "source": [
    "\" Manhattan has the most number of Airbnb listing whereas Staten Island has the least number of Airbnb listing\""
   ]
  },
  {
   "cell_type": "markdown",
   "id": "321aa5de-abdc-474f-9f2d-888062242025",
   "metadata": {},
   "source": [
    "#### How does availability change across months? (Seasonality)"
   ]
  },
  {
   "cell_type": "code",
   "execution_count": 55,
   "id": "574c924a-f5d6-4d6e-be3d-9d2b56fbb8bd",
   "metadata": {},
   "outputs": [
    {
     "name": "stderr",
     "output_type": "stream",
     "text": [
      "C:\\Users\\PRACHI\\AppData\\Local\\Temp\\ipykernel_29728\\2878801274.py:1: UserWarning: Parsing dates in %d-%m-%Y format when dayfirst=False (the default) was specified. Pass `dayfirst=True` or specify a format to silence this warning.\n",
      "  df[\"last_review\"] = pd.to_datetime(df[\"last_review\"], errors=\"coerce\") # Coneverting last review from object to date time\n"
     ]
    }
   ],
   "source": [
    "df[\"last_review\"] = pd.to_datetime(df[\"last_review\"], errors=\"coerce\") # Coneverting last review from object to date time"
   ]
  },
  {
   "cell_type": "code",
   "execution_count": 57,
   "id": "64d632de-2337-4439-82b1-1902ad7b7a3b",
   "metadata": {},
   "outputs": [],
   "source": [
    "df[\"review_month\"] = df[\"last_review\"].dt.month  # to extract the month form last review"
   ]
  },
  {
   "cell_type": "code",
   "execution_count": 59,
   "id": "cb689601-143c-4ed4-a876-ebc98c460aea",
   "metadata": {},
   "outputs": [
    {
     "name": "stdout",
     "output_type": "stream",
     "text": [
      "review_month\n",
      "1.0      2773\n",
      "2.0       770\n",
      "3.0      1288\n",
      "4.0      2109\n",
      "5.0      4701\n",
      "6.0     13589\n",
      "7.0      5937\n",
      "8.0      1667\n",
      "9.0      1535\n",
      "10.0     1546\n",
      "11.0     1158\n",
      "12.0     1770\n",
      "Name: count, dtype: int64\n"
     ]
    }
   ],
   "source": [
    "seasonality = df[\"review_month\"].value_counts().sort_index()    # to count review per month \n",
    "print(seasonality)"
   ]
  },
  {
   "cell_type": "markdown",
   "id": "2067719c-22b2-496d-b999-c9f0263232e9",
   "metadata": {},
   "source": [
    "As we can see that on 6th month(june) most hotels/rooms are available."
   ]
  },
  {
   "cell_type": "markdown",
   "id": "31e8e6f5-fe8b-4542-b0db-9beb090ccacd",
   "metadata": {},
   "source": [
    "#### Are there listings that are always available or never booked?"
   ]
  },
  {
   "cell_type": "code",
   "execution_count": 63,
   "id": "2a7e7c5d-ece2-44f6-a1eb-c10f0a68b45f",
   "metadata": {},
   "outputs": [],
   "source": [
    "Always_available = df[df['availability_365'] == 365].shape[0]"
   ]
  },
  {
   "cell_type": "code",
   "execution_count": 65,
   "id": "9e11f118-0e6a-47b6-811e-01c4b2154b1d",
   "metadata": {},
   "outputs": [],
   "source": [
    "Never_available = df[df[\"availability_365\"] == 0].shape[0]"
   ]
  },
  {
   "cell_type": "code",
   "execution_count": 67,
   "id": "d88d6d3f-8bcd-4463-9ea5-f428e93fca38",
   "metadata": {},
   "outputs": [
    {
     "name": "stdout",
     "output_type": "stream",
     "text": [
      "Always Available Listings: 1295\n",
      "Never Available Listings: 17533\n"
     ]
    }
   ],
   "source": [
    "print(\"Always Available Listings:\", Always_available)\n",
    "print(\"Never Available Listings:\", Never_available)"
   ]
  },
  {
   "cell_type": "markdown",
   "id": "2984edec-7dda-4855-95b6-2bfa2ca8256d",
   "metadata": {},
   "source": [
    "### Host & Property Insights:"
   ]
  },
  {
   "cell_type": "markdown",
   "id": "794d25b2-acdb-4e25-ac7d-a8a88ab59f06",
   "metadata": {},
   "source": [
    "#### Who are the top hosts with the most listings?"
   ]
  },
  {
   "cell_type": "code",
   "execution_count": 71,
   "id": "57d76e7e-76b7-407d-8e24-ac2378ed6fa1",
   "metadata": {},
   "outputs": [
    {
     "name": "stdout",
     "output_type": "stream",
     "text": [
      "host_id\n",
      "219517861.0    327\n",
      "107434423.0    232\n",
      "30283594.0     121\n",
      "137358866.0    103\n",
      "16098958.0      96\n",
      "12243051.0      96\n",
      "61391963.0      91\n",
      "22541573.0      87\n",
      "200380610.0     65\n",
      "7503643.0       52\n",
      "Name: count, dtype: int64\n"
     ]
    }
   ],
   "source": [
    "listing_by_host = df['host_id'].value_counts().head(10)\n",
    "print(listing_by_host)"
   ]
  },
  {
   "cell_type": "markdown",
   "id": "b3468f37-afad-41b3-82d4-ee5bf5e2da07",
   "metadata": {},
   "source": [
    "these are the top 10 host id with most listing"
   ]
  },
  {
   "cell_type": "markdown",
   "id": "8a480f34-e2d5-4d70-8f0d-7c5ec4436bfc",
   "metadata": {},
   "source": [
    "#### What property types dominate the market? (Private Room vs. Entire Home)"
   ]
  },
  {
   "cell_type": "code",
   "execution_count": 85,
   "id": "08cb4913-1f07-41a3-8581-3a8d0d0b07d7",
   "metadata": {},
   "outputs": [
    {
     "name": "stdout",
     "output_type": "stream",
     "text": [
      "room_type\n",
      "Entire home/apt    5039282.0\n",
      "Private room       1919967.0\n",
      "Shared room          79491.0\n",
      "Name: new_price, dtype: float64\n"
     ]
    }
   ],
   "source": [
    "Property_type = df.groupby(\"room_type\")[\"new_price\"].sum().sort_values(ascending = False)\n",
    "print(Property_type)"
   ]
  },
  {
   "cell_type": "markdown",
   "id": "2d19e136-dad2-46a0-b824-ce0dbf58633d",
   "metadata": {},
   "source": [
    "As we can clearly see that Entire home/apt making more revenue hence more dominant market value"
   ]
  },
  {
   "cell_type": "code",
   "execution_count": 88,
   "id": "3ba5092f-a4b4-4577-a323-b37127ff879c",
   "metadata": {},
   "outputs": [
    {
     "name": "stdout",
     "output_type": "stream",
     "text": [
      "room_type\n",
      "Entire home/apt    5039282.0\n",
      "Private room       1919967.0\n",
      "Shared room          79491.0\n",
      "Name: new_price, dtype: float64\n"
     ]
    }
   ],
   "source": [
    "Property_type1 = df.groupby(\"room_type\")[\"room_type\"].value_counts().sort_values(ascending = False)\n",
    "print(Property_type)"
   ]
  },
  {
   "cell_type": "markdown",
   "id": "c336559f-cc21-436f-8783-2a999e14212b",
   "metadata": {},
   "source": [
    "As we can see that entire home/apt has more listing as well hence genrating more revenue as well"
   ]
  },
  {
   "cell_type": "code",
   "execution_count": 101,
   "id": "46e2154d-3b06-4241-9083-e907b0730ee5",
   "metadata": {},
   "outputs": [
    {
     "ename": "AttributeError",
     "evalue": "'DataFrame' object has no attribute 'to_frame'",
     "output_type": "error",
     "traceback": [
      "\u001b[1;31m---------------------------------------------------------------------------\u001b[0m",
      "\u001b[1;31mAttributeError\u001b[0m                            Traceback (most recent call last)",
      "\u001b[1;32m~\\AppData\\Local\\Temp\\ipykernel_29728\\4066282350.py\u001b[0m in \u001b[0;36m?\u001b[1;34m()\u001b[0m\n\u001b[1;32m----> 1\u001b[1;33m \u001b[0mProperty_type\u001b[0m \u001b[1;33m=\u001b[0m \u001b[0mProperty_type\u001b[0m\u001b[1;33m.\u001b[0m\u001b[0mto_frame\u001b[0m\u001b[1;33m(\u001b[0m\u001b[1;33m)\u001b[0m   \u001b[1;31m# to change property_type from series to data frame\u001b[0m\u001b[1;33m\u001b[0m\u001b[1;33m\u001b[0m\u001b[0m\n\u001b[0m",
      "\u001b[1;32m~\\AppData\\Roaming\\Python\\Python311\\site-packages\\pandas\\core\\generic.py\u001b[0m in \u001b[0;36m?\u001b[1;34m(self, name)\u001b[0m\n\u001b[0;32m   6295\u001b[0m             \u001b[1;32mand\u001b[0m \u001b[0mname\u001b[0m \u001b[1;32mnot\u001b[0m \u001b[1;32min\u001b[0m \u001b[0mself\u001b[0m\u001b[1;33m.\u001b[0m\u001b[0m_accessors\u001b[0m\u001b[1;33m\u001b[0m\u001b[1;33m\u001b[0m\u001b[0m\n\u001b[0;32m   6296\u001b[0m             \u001b[1;32mand\u001b[0m \u001b[0mself\u001b[0m\u001b[1;33m.\u001b[0m\u001b[0m_info_axis\u001b[0m\u001b[1;33m.\u001b[0m\u001b[0m_can_hold_identifiers_and_holds_name\u001b[0m\u001b[1;33m(\u001b[0m\u001b[0mname\u001b[0m\u001b[1;33m)\u001b[0m\u001b[1;33m\u001b[0m\u001b[1;33m\u001b[0m\u001b[0m\n\u001b[0;32m   6297\u001b[0m         ):\n\u001b[0;32m   6298\u001b[0m             \u001b[1;32mreturn\u001b[0m \u001b[0mself\u001b[0m\u001b[1;33m[\u001b[0m\u001b[0mname\u001b[0m\u001b[1;33m]\u001b[0m\u001b[1;33m\u001b[0m\u001b[1;33m\u001b[0m\u001b[0m\n\u001b[1;32m-> 6299\u001b[1;33m         \u001b[1;32mreturn\u001b[0m \u001b[0mobject\u001b[0m\u001b[1;33m.\u001b[0m\u001b[0m__getattribute__\u001b[0m\u001b[1;33m(\u001b[0m\u001b[0mself\u001b[0m\u001b[1;33m,\u001b[0m \u001b[0mname\u001b[0m\u001b[1;33m)\u001b[0m\u001b[1;33m\u001b[0m\u001b[1;33m\u001b[0m\u001b[0m\n\u001b[0m",
      "\u001b[1;31mAttributeError\u001b[0m: 'DataFrame' object has no attribute 'to_frame'"
     ]
    }
   ],
   "source": [
    "Property_type = Property_type.to_frame()   # to change property_type from series to data frame"
   ]
  },
  {
   "cell_type": "code",
   "execution_count": 103,
   "id": "7494ad1f-cf1a-4613-af9f-6ea53bbcfacf",
   "metadata": {},
   "outputs": [
    {
     "data": {
      "text/plain": [
       "<Axes: xlabel='room_type', ylabel='new_price'>"
      ]
     },
     "execution_count": 103,
     "metadata": {},
     "output_type": "execute_result"
    },
    {
     "data": {
      "image/png": "[encoded data removed]",
      "text/plain": [
       "<Figure size 640x480 with 1 Axes>"
      ]
     },
     "metadata": {},
     "output_type": "display_data"
    }
   ],
   "source": [
    "sns.barplot(x = 'room_type', y = 'new_price', data = Property_type)"
   ]
  },
  {
   "cell_type": "markdown",
   "id": "108be87d-7693-4a1a-9a56-2e6511edb785",
   "metadata": {},
   "source": [
    "#### Are there hosts with fake or repetitive listings?"
   ]
  },
  {
   "cell_type": "code",
   "execution_count": 106,
   "id": "482c4b70-195d-471e-8f0c-2656d3720c44",
   "metadata": {},
   "outputs": [
    {
     "name": "stdout",
     "output_type": "stream",
     "text": [
      "host_id\n",
      "219517861.0    327\n",
      "107434423.0    232\n",
      "30283594.0     121\n",
      "137358866.0    103\n",
      "16098958.0      96\n",
      "12243051.0      96\n",
      "61391963.0      91\n",
      "22541573.0      87\n",
      "200380610.0     65\n",
      "1475015.0       52\n",
      "Name: id, dtype: int64\n"
     ]
    }
   ],
   "source": [
    "top_hosts = df.groupby(\"host_id\")[\"id\"].count().sort_values(ascending=False).head(10)\n",
    "print(top_hosts)"
   ]
  },
  {
   "cell_type": "code",
   "execution_count": 108,
   "id": "ec2c8dd5-3ea5-4c66-bb49-3b6d20ac9ddd",
   "metadata": {},
   "outputs": [
    {
     "name": "stdout",
     "output_type": "stream",
     "text": [
      "               id                                               name  \\\n",
      "73        17693.0                    HARLEM, NEW YORK WELCOMES YOU!!   \n",
      "123       27883.0                             East Village Sanctuary   \n",
      "171       44096.0                                   Room with a View   \n",
      "267       64015.0                       Prime East Village 1 Bedroom   \n",
      "321       77765.0                               Superior @ Box House   \n",
      "...           ...                                                ...   \n",
      "48684  36382847.0                                       Comfort home   \n",
      "48735  36412461.0  Sunny, Cozy, Private Room In The Heart of Bush...   \n",
      "48759  36420404.0                                    Home Sweet Home   \n",
      "48791  36427922.0                                Home away from home   \n",
      "48826  36449743.0                                  Brooklyn's finest   \n",
      "\n",
      "           host_id            host_name neighbourhood_group  \\\n",
      "73         68428.0      Tye And Etienne           Manhattan   \n",
      "123       120223.0                  Jen           Manhattan   \n",
      "171       190409.0             Waundell               Bronx   \n",
      "267       146944.0                David           Manhattan   \n",
      "321       417504.0  The Box House Hotel            Brooklyn   \n",
      "...            ...                  ...                 ...   \n",
      "48684  266211707.0                  Yan            Brooklyn   \n",
      "48735  147515897.0               Flávia            Brooklyn   \n",
      "48759  273656890.0                Liana           Manhattan   \n",
      "48791  238163900.0                 Lucy              Queens   \n",
      "48826   66084717.0                  Tim            Brooklyn   \n",
      "\n",
      "      proper_neighbourhoof_grp Proper_trim_neighbourhood_grp  \\\n",
      "73                   Manhattan                     Manhattan   \n",
      "123                  Manhattan                     Manhattan   \n",
      "171                      Bronx                         Bronx   \n",
      "267                  Manhattan                     Manhattan   \n",
      "321                   Brooklyn                      Brooklyn   \n",
      "...                        ...                           ...   \n",
      "48684                 Brooklyn                      Brooklyn   \n",
      "48735                 Brooklyn                      Brooklyn   \n",
      "48759                Manhattan                     Manhattan   \n",
      "48791                   Queens                        Queens   \n",
      "48826                 Brooklyn                      Brooklyn   \n",
      "\n",
      "            neighbourhood  Trim_neighbourhood Proper_trim_neighbourhood  ...  \\\n",
      "73     Washington Heights  Washington Heights        Washington Heights  ...   \n",
      "123          East Village        East Village              East Village  ...   \n",
      "171            Highbridge          Highbridge                Highbridge  ...   \n",
      "267          East Village        East Village              East Village  ...   \n",
      "321            Greenpoint          Greenpoint                Greenpoint  ...   \n",
      "...                   ...                 ...                       ...  ...   \n",
      "48684         Sunset Park         Sunset Park               Sunset Park  ...   \n",
      "48735            Bushwick            Bushwick                  Bushwick  ...   \n",
      "48759         East Harlem         East Harlem               East Harlem  ...   \n",
      "48791     Cambria Heights     Cambria Heights           Cambria Heights  ...   \n",
      "48826       East Flatbush       East Flatbush             East Flatbush  ...   \n",
      "\n",
      "       minimum_nights  new_minimum_nights Outlier_or_not2  number_of_reviews  \\\n",
      "73                2.0                 2.0              ok               49.0   \n",
      "123               4.0                 4.0              ok               25.0   \n",
      "171               1.0                 1.0              ok              219.0   \n",
      "267               3.0                 3.0              ok                0.0   \n",
      "321               3.0                 3.0              ok               36.0   \n",
      "...               ...                 ...             ...                ...   \n",
      "48684             1.0                 1.0              ok                0.0   \n",
      "48735             3.0                 3.0              ok                0.0   \n",
      "48759             1.0                 1.0              ok                0.0   \n",
      "48791             3.0                 3.0              ok                0.0   \n",
      "48826             3.0                 3.0              ok                0.0   \n",
      "\n",
      "       last_review reviews_per_month  calculated_host_listings_count  \\\n",
      "73      2019-06-18              1.60                             2.0   \n",
      "123     2011-12-10              0.23                             1.0   \n",
      "171     2019-07-04              2.04                             3.0   \n",
      "267            NaT              0.00                             1.0   \n",
      "321     2019-07-01              0.36                            28.0   \n",
      "...            ...               ...                             ...   \n",
      "48684          NaT              0.00                             2.0   \n",
      "48735          NaT              0.00                             1.0   \n",
      "48759          NaT              0.00                             1.0   \n",
      "48791          NaT              0.00                             1.0   \n",
      "48826          NaT              0.00                             2.0   \n",
      "\n",
      "       availability_365 availability_366  review_month  \n",
      "73                336.0               ok           6.0  \n",
      "123                 0.0               ok          12.0  \n",
      "171               353.0               ok           7.0  \n",
      "267                 0.0               ok           NaN  \n",
      "321                79.0               ok           7.0  \n",
      "...                 ...              ...           ...  \n",
      "48684             177.0               ok           NaN  \n",
      "48735              28.0               ok           NaN  \n",
      "48759              81.0               ok           NaN  \n",
      "48791             176.0               ok           NaN  \n",
      "48826             206.0               ok           NaN  \n",
      "\n",
      "[1645 rows x 26 columns]\n"
     ]
    }
   ],
   "source": [
    "duplicate_listings = df[df.duplicated(subset=[\"name\"], keep=False)]\n",
    "print(duplicate_listings)"
   ]
  },
  {
   "cell_type": "code",
   "execution_count": 110,
   "id": "71017327-2ef9-494e-aa6f-fcf6a8a099cd",
   "metadata": {},
   "outputs": [
    {
     "name": "stdout",
     "output_type": "stream",
     "text": [
      "               id                                               name  \\\n",
      "2311    1117706.0     Bright, Bohemian, Spacious Apt in Williamsburg   \n",
      "2575    1336223.0    Safe, Sunny, Quiet Chelsea Apt has Washer/Dryer   \n",
      "3615    2163602.0                Upper West Side elegance. Riverside   \n",
      "7794    5918053.0             1 Quiet Private Room in Heart of Soho!   \n",
      "8494    6539114.0                   Private Room in Williamsburg Apt   \n",
      "9391    7202170.0                      Midtown East penthouse studio   \n",
      "9561    7341406.0                Private Spacious Room with bathroom   \n",
      "10947   8444227.0                      Private Room in Heart of Soho   \n",
      "11314   8783567.0                  Studio Apt on The Upper West Side   \n",
      "11913   9277608.0  Soho 3BR/2BA Everything is just outside your d...   \n",
      "12251   9484892.0                 Cozy, E.Vill room w/ private bath!   \n",
      "12313   9513278.0                      Sunny and chic SoHo apartment   \n",
      "14246  11037023.0                BR in amazing Apt - 10min Manhattan   \n",
      "17472  13757434.0                PRIVATE LARGE STUDIO FOR YOU, PLUS!   \n",
      "19111  15191740.0                     ★★LUXURY at a MIDTOWN RESORT★★   \n",
      "20094  16087406.0  2 BDRM Presidential Reserve at Wyndham Midtown 45   \n",
      "21706  17447168.0  Private Sunny Room in Williamsburg, Brooklyn - NY   \n",
      "22454  18154888.0                      Manhatten Luxurious 1 Bedroom   \n",
      "23324  18879379.0                         Time Square private studio   \n",
      "25010  20029501.0                    Furnished Upper East Side Room!   \n",
      "25467  20384987.0    Cozy Apartment in Time Square with Amazing view   \n",
      "27337  21577773.0   Private Room on Ground Floor close to Everything   \n",
      "28876  22267769.0               Cosy room in a cool Williamsburg Apt   \n",
      "28943  22295702.0                      East Village Studio Apartment   \n",
      "28991  22316496.0    Cozy private room in the heart of Nolita / Soho   \n",
      "29883  23002312.0                   Park Ave Apt in the Heart of NYC   \n",
      "30053  23136074.0                   So nice and close to everything.   \n",
      "31740  24751420.0        Cozy and Spacious Studio in Columbus Circle   \n",
      "31746  24754245.0                 Private room with lots of surprise   \n",
      "32118  25100219.0  Beautiful Williamsburg home with spectacular v...   \n",
      "34190  27115251.0    NYC Spacious 3 BR / Private Entrance + Backyard   \n",
      "34333  27237511.0  *NO GUEST SERVICE FEE* Beekman Tower Premium S...   \n",
      "36076  28666578.0     Large Cozy Bedroom 10 mins from Times Sq. 33C3   \n",
      "37105  29501807.0     Sunny room with new Queen bed and large closet   \n",
      "38490  30290307.0               Beautiful Central 2 Bedroom in Soho!   \n",
      "40332  31283533.0               New York City Home w/ Full Amenities   \n",
      "41135  31989484.0                              Blissful Balcony Room   \n",
      "42383  32891427.0   Private Room in quiet XL East Village apartment!   \n",
      "42790  33221933.0                                     Visitors Dream   \n",
      "43402  33636178.0      Sonder | The Biltmore | Warm Studio + Rooftop   \n",
      "44369  34202149.0  Perfect 2 Bedroom Apt on East River, Williamsburg   \n",
      "45797  34954790.0  Private apartment535\\nREVIEWS ON PROFILE/Manha...   \n",
      "47284  35675069.0  Newly Renovated Apartment (47 Buffalo 1F Room #2)   \n",
      "47521  35790090.0                      Authentic Chelsea Studio Loft   \n",
      "48391  36235150.0    Sky View beautiful apt in Williamsburg New York   \n",
      "48880  36481315.0  The Raccoon Artist Studio in Williamsburg New ...   \n",
      "48887  36483152.0    Garden Jewel Apartment in Williamsburg New York   \n",
      "\n",
      "           host_id         host_name neighbourhood_group  \\\n",
      "2311     2843987.0            Simona            Brooklyn   \n",
      "2575     7245581.0           Michael           Manhattan   \n",
      "3615    11039974.0             Poppi           Manhattan   \n",
      "7794     2938204.0          Veronica           Manhattan   \n",
      "8494      111837.0             Emeka            Brooklyn   \n",
      "9391    37711914.0        Aleksandar           Manhattan   \n",
      "9561    38460304.0              Leon            Brooklyn   \n",
      "10947   44457589.0              Joel           Manhattan   \n",
      "11314   46039971.0             Brady           Manhattan   \n",
      "11913   42047615.0  Jonathan & Nancy           Manhattan   \n",
      "12251   13667539.0             Brian           Manhattan   \n",
      "12313   49293535.0        Aleksandra           Manhattan   \n",
      "14246   31651673.0           Mathieu            Brooklyn   \n",
      "17472   46644337.0               Sha            Brooklyn   \n",
      "19111   64065593.0      ResortShare5           Manhattan   \n",
      "20094   69545883.0            Chayla           Manhattan   \n",
      "21706   30054890.0              Gary            Brooklyn   \n",
      "22454    3191545.0              Kyle           Manhattan   \n",
      "23324    3291930.0              Mark           Manhattan   \n",
      "25010  142246533.0               Kat           Manhattan   \n",
      "25467   19045109.0                 J           Manhattan   \n",
      "27337  154965091.0               Joe           Manhattan   \n",
      "28876   72593389.0            Jeremy            Brooklyn   \n",
      "28943  135587084.0              Cami           Manhattan   \n",
      "28991    8726000.0          Larasati           Manhattan   \n",
      "29883   42677381.0              Anna           Manhattan   \n",
      "30053  171939378.0              Jose           Manhattan   \n",
      "31740  130965770.0            Joshua           Manhattan   \n",
      "31746   38874050.0            Howard              Queens   \n",
      "32118   65178149.0          Jonathan            Brooklyn   \n",
      "34190    5179523.0               Max            Brooklyn   \n",
      "34333  205031545.0        Red Awning           Manhattan   \n",
      "36076  190921808.0              John           Manhattan   \n",
      "37105   77813945.0            Andrew           Manhattan   \n",
      "38490  227498924.0              Alex           Manhattan   \n",
      "40332   39179346.0          Rooshabh           Manhattan   \n",
      "41135  237421509.0              Lisa            Brooklyn   \n",
      "42383     160356.0            Joseph           Manhattan   \n",
      "42790  250115747.0               Ivy              Queens   \n",
      "43402  219517861.0      Sonder (NYC)           Manhattan   \n",
      "44369   31628364.0             Sarah            Brooklyn   \n",
      "45797  149564593.0            Robert           Manhattan   \n",
      "47284  268358454.0             Devin            Brooklyn   \n",
      "47521   89629761.0              Juan           Manhattan   \n",
      "48391  208514239.0             Melki            Brooklyn   \n",
      "48880  208514239.0             Melki            Brooklyn   \n",
      "48887  208514239.0             Melki            Brooklyn   \n",
      "\n",
      "      proper_neighbourhoof_grp Proper_trim_neighbourhood_grp  \\\n",
      "2311                  Brooklyn                      Brooklyn   \n",
      "2575                 Manhattan                     Manhattan   \n",
      "3615                 Manhattan                     Manhattan   \n",
      "7794                 Manhattan                     Manhattan   \n",
      "8494                  Brooklyn                      Brooklyn   \n",
      "9391                 Manhattan                     Manhattan   \n",
      "9561                  Brooklyn                      Brooklyn   \n",
      "10947                Manhattan                     Manhattan   \n",
      "11314                Manhattan                     Manhattan   \n",
      "11913                Manhattan                     Manhattan   \n",
      "12251                Manhattan                     Manhattan   \n",
      "12313                Manhattan                     Manhattan   \n",
      "14246                 Brooklyn                      Brooklyn   \n",
      "17472                 Brooklyn                      Brooklyn   \n",
      "19111                Manhattan                     Manhattan   \n",
      "20094                Manhattan                     Manhattan   \n",
      "21706                 Brooklyn                      Brooklyn   \n",
      "22454                Manhattan                     Manhattan   \n",
      "23324                Manhattan                     Manhattan   \n",
      "25010                Manhattan                     Manhattan   \n",
      "25467                Manhattan                     Manhattan   \n",
      "27337                Manhattan                     Manhattan   \n",
      "28876                 Brooklyn                      Brooklyn   \n",
      "28943                Manhattan                     Manhattan   \n",
      "28991                Manhattan                     Manhattan   \n",
      "29883                Manhattan                     Manhattan   \n",
      "30053                Manhattan                     Manhattan   \n",
      "31740                Manhattan                     Manhattan   \n",
      "31746                   Queens                        Queens   \n",
      "32118                 Brooklyn                      Brooklyn   \n",
      "34190                 Brooklyn                      Brooklyn   \n",
      "34333                Manhattan                     Manhattan   \n",
      "36076                Manhattan                     Manhattan   \n",
      "37105                Manhattan                     Manhattan   \n",
      "38490                Manhattan                     Manhattan   \n",
      "40332                Manhattan                     Manhattan   \n",
      "41135                 Brooklyn                      Brooklyn   \n",
      "42383                Manhattan                     Manhattan   \n",
      "42790                   Queens                        Queens   \n",
      "43402                Manhattan                     Manhattan   \n",
      "44369                 Brooklyn                      Brooklyn   \n",
      "45797                Manhattan                     Manhattan   \n",
      "47284                 Brooklyn                      Brooklyn   \n",
      "47521                Manhattan                     Manhattan   \n",
      "48391                 Brooklyn                      Brooklyn   \n",
      "48880                 Brooklyn                      Brooklyn   \n",
      "48887                 Brooklyn                      Brooklyn   \n",
      "\n",
      "            neighbourhood  Trim_neighbourhood Proper_trim_neighbourhood  ...  \\\n",
      "2311         Williamsburg        Williamsburg              Williamsburg  ...   \n",
      "2575              Chelsea             Chelsea                   Chelsea  ...   \n",
      "3615      Upper West Side     Upper West Side           Upper West Side  ...   \n",
      "7794                 SoHo                SoHo                      Soho  ...   \n",
      "8494         Williamsburg        Williamsburg              Williamsburg  ...   \n",
      "9391          Murray Hill         Murray Hill               Murray Hill  ...   \n",
      "9561   Bedford-Stuyvesant  Bedford-Stuyvesant        Bedford-Stuyvesant  ...   \n",
      "10947                SoHo                SoHo                      Soho  ...   \n",
      "11314     Upper West Side     Upper West Side           Upper West Side  ...   \n",
      "11913              Nolita              Nolita                    Nolita  ...   \n",
      "12251        East Village        East Village              East Village  ...   \n",
      "12313                SoHo                SoHo                      Soho  ...   \n",
      "14246        Williamsburg        Williamsburg              Williamsburg  ...   \n",
      "17472  Bedford-Stuyvesant  Bedford-Stuyvesant        Bedford-Stuyvesant  ...   \n",
      "19111             Midtown             Midtown                   Midtown  ...   \n",
      "20094             Midtown             Midtown                   Midtown  ...   \n",
      "21706        Williamsburg        Williamsburg              Williamsburg  ...   \n",
      "22454      Hell's Kitchen      Hell's Kitchen            Hell'S Kitchen  ...   \n",
      "23324      Hell's Kitchen      Hell's Kitchen            Hell'S Kitchen  ...   \n",
      "25010     Upper East Side     Upper East Side           Upper East Side  ...   \n",
      "25467    Theater District    Theater District          Theater District  ...   \n",
      "27337      Hell's Kitchen      Hell's Kitchen            Hell'S Kitchen  ...   \n",
      "28876        Williamsburg        Williamsburg              Williamsburg  ...   \n",
      "28943        East Village        East Village              East Village  ...   \n",
      "28991              Nolita              Nolita                    Nolita  ...   \n",
      "29883         Murray Hill         Murray Hill               Murray Hill  ...   \n",
      "30053      Hell's Kitchen      Hell's Kitchen            Hell'S Kitchen  ...   \n",
      "31740      Hell's Kitchen      Hell's Kitchen            Hell'S Kitchen  ...   \n",
      "31746           Ridgewood           Ridgewood                 Ridgewood  ...   \n",
      "32118        Williamsburg        Williamsburg              Williamsburg  ...   \n",
      "34190        Williamsburg        Williamsburg              Williamsburg  ...   \n",
      "34333             Midtown             Midtown                   Midtown  ...   \n",
      "36076      Hell's Kitchen      Hell's Kitchen            Hell'S Kitchen  ...   \n",
      "37105        East Village        East Village              East Village  ...   \n",
      "38490                SoHo                SoHo                      Soho  ...   \n",
      "40332             Midtown             Midtown                   Midtown  ...   \n",
      "41135  Bedford-Stuyvesant  Bedford-Stuyvesant        Bedford-Stuyvesant  ...   \n",
      "42383        East Village        East Village              East Village  ...   \n",
      "42790           Ridgewood           Ridgewood                 Ridgewood  ...   \n",
      "43402    Theater District    Theater District          Theater District  ...   \n",
      "44369        Williamsburg        Williamsburg              Williamsburg  ...   \n",
      "45797     Upper East Side     Upper East Side           Upper East Side  ...   \n",
      "47284  Bedford-Stuyvesant  Bedford-Stuyvesant        Bedford-Stuyvesant  ...   \n",
      "47521             Chelsea             Chelsea                   Chelsea  ...   \n",
      "48391        Williamsburg        Williamsburg              Williamsburg  ...   \n",
      "48880        Williamsburg        Williamsburg              Williamsburg  ...   \n",
      "48887        Williamsburg        Williamsburg              Williamsburg  ...   \n",
      "\n",
      "       minimum_nights  new_minimum_nights Outlier_or_not2  number_of_reviews  \\\n",
      "2311              2.0                 2.0              ok               16.0   \n",
      "2575             39.0                39.0              ok               25.0   \n",
      "3615              1.0                 1.0              ok                5.0   \n",
      "7794              5.0                 5.0              ok                8.0   \n",
      "8494              2.0                 2.0              ok                1.0   \n",
      "9391             10.0                10.0              ok               25.0   \n",
      "9561              4.0                 4.0              ok               27.0   \n",
      "10947             1.0                 1.0              ok              152.0   \n",
      "11314             5.0                 5.0              ok               15.0   \n",
      "11913             3.0                 3.0              ok              130.0   \n",
      "12251             1.0                 1.0              ok                2.0   \n",
      "12313             3.0                 3.0              ok                2.0   \n",
      "14246             1.0                 1.0              ok               17.0   \n",
      "17472             2.0                 2.0              ok              113.0   \n",
      "19111             2.0                 2.0              ok               30.0   \n",
      "20094             3.0                 3.0              ok                2.0   \n",
      "21706             2.0                 2.0              ok                4.0   \n",
      "22454            30.0                30.0              ok                0.0   \n",
      "23324             1.0                 1.0              ok                0.0   \n",
      "25010            12.0                12.0              ok                1.0   \n",
      "25467             3.0                 3.0              ok                0.0   \n",
      "27337             2.0                 2.0              ok               61.0   \n",
      "28876             2.0                 2.0              ok                1.0   \n",
      "28943            12.0                12.0              ok               17.0   \n",
      "28991             2.0                 2.0              ok                2.0   \n",
      "29883             3.0                 3.0              ok                9.0   \n",
      "30053             3.0                 3.0              ok                2.0   \n",
      "31740             1.0                 1.0              ok               43.0   \n",
      "31746             2.0                 2.0              ok               39.0   \n",
      "32118             2.0                 2.0              ok                6.0   \n",
      "34190             1.0                 1.0              ok               44.0   \n",
      "34333             3.0                 3.0              ok                3.0   \n",
      "36076             7.0                 7.0              ok                4.0   \n",
      "37105             4.0                 4.0              ok                5.0   \n",
      "38490             4.0                 4.0              ok                2.0   \n",
      "40332             1.0                 1.0              ok                8.0   \n",
      "41135             1.0                 1.0              ok                2.0   \n",
      "42383             1.0                 1.0              ok               31.0   \n",
      "42790             2.0                 2.0              ok                9.0   \n",
      "43402            29.0                29.0              ok                0.0   \n",
      "44369             3.0                 3.0              ok                4.0   \n",
      "45797             2.0                 2.0              ok                1.0   \n",
      "47284             1.0                 1.0              ok                0.0   \n",
      "47521             2.0                 2.0              ok                0.0   \n",
      "48391             1.0                 1.0              ok                1.0   \n",
      "48880             1.0                 1.0              ok                0.0   \n",
      "48887             1.0                 1.0              ok                0.0   \n",
      "\n",
      "       last_review reviews_per_month  calculated_host_listings_count  \\\n",
      "2311    2018-12-19              0.26                             1.0   \n",
      "2575    2019-05-13              0.35                            19.0   \n",
      "3615    2016-08-25              0.14                             2.0   \n",
      "7794    2017-12-21              0.16                             1.0   \n",
      "8494    2015-06-16              0.02                             1.0   \n",
      "9391    2019-06-30              0.53                             1.0   \n",
      "9561    2019-03-09              0.57                             2.0   \n",
      "10947   2019-06-04              3.34                             2.0   \n",
      "11314   2019-03-21              0.35                             1.0   \n",
      "11913   2019-06-05              3.11                             2.0   \n",
      "12251   2016-01-01              0.05                             1.0   \n",
      "12313   2016-05-26              0.05                             1.0   \n",
      "14246   2018-01-02              0.44                             3.0   \n",
      "17472   2019-06-22              3.08                             3.0   \n",
      "19111   2019-04-11              0.89                            13.0   \n",
      "20094   2017-06-09              0.08                            12.0   \n",
      "21706   2019-01-02              0.14                             2.0   \n",
      "22454          NaT              0.00                            23.0   \n",
      "23324          NaT              0.00                             1.0   \n",
      "25010   2017-08-16              0.04                             1.0   \n",
      "25467          NaT              0.00                             1.0   \n",
      "27337   2019-05-17              3.02                             4.0   \n",
      "28876   2018-01-03              0.05                             1.0   \n",
      "28943   2019-01-09              0.90                             1.0   \n",
      "28991   2019-02-25              0.11                             1.0   \n",
      "29883   2019-01-03              0.57                             1.0   \n",
      "30053   2018-05-13              0.14                             2.0   \n",
      "31740   2019-07-01              4.37                             1.0   \n",
      "31746   2019-06-23              2.71                             3.0   \n",
      "32118   2018-10-11              0.44                             1.0   \n",
      "34190   2019-05-29              3.84                             3.0   \n",
      "34333   2019-03-03              0.50                            49.0   \n",
      "36076   2019-04-16              0.44                            47.0   \n",
      "37105   2019-05-26              1.90                             1.0   \n",
      "38490   2019-05-18              0.32                             1.0   \n",
      "40332   2019-07-01              4.00                             1.0   \n",
      "41135   2019-03-07              0.39                             2.0   \n",
      "42383   2019-07-03              7.69                             4.0   \n",
      "42790   2019-06-23              3.18                             4.0   \n",
      "43402          NaT              0.00                           327.0   \n",
      "44369   2019-06-29              1.97                             1.0   \n",
      "45797   2019-06-09              1.00                             1.0   \n",
      "47284          NaT              0.00                             1.0   \n",
      "47521          NaT              0.00                             1.0   \n",
      "48391   2019-07-07              1.00                             3.0   \n",
      "48880          NaT              0.00                             3.0   \n",
      "48887          NaT              0.00                             3.0   \n",
      "\n",
      "       availability_365 availability_366  review_month  \n",
      "2311                0.0               ok          12.0  \n",
      "2575              245.0               ok           5.0  \n",
      "3615                0.0               ok           8.0  \n",
      "7794              188.0               ok          12.0  \n",
      "8494                0.0               ok           6.0  \n",
      "9391                1.0               ok           6.0  \n",
      "9561              312.0               ok           3.0  \n",
      "10947               9.0               ok           6.0  \n",
      "11314               0.0               ok           3.0  \n",
      "11913             235.0               ok           6.0  \n",
      "12251               0.0               ok           1.0  \n",
      "12313               0.0               ok           5.0  \n",
      "14246               0.0               ok           1.0  \n",
      "17472             262.0               ok           6.0  \n",
      "19111             333.0               ok           4.0  \n",
      "20094             365.0               ok           6.0  \n",
      "21706               0.0               ok           1.0  \n",
      "22454             149.0               ok           NaN  \n",
      "23324               0.0               ok           NaN  \n",
      "25010               0.0               ok           8.0  \n",
      "25467               0.0               ok           NaN  \n",
      "27337              95.0               ok           5.0  \n",
      "28876               0.0               ok           1.0  \n",
      "28943               0.0               ok           1.0  \n",
      "28991               0.0               ok           2.0  \n",
      "29883               0.0               ok           1.0  \n",
      "30053               0.0               ok           5.0  \n",
      "31740               2.0               ok           7.0  \n",
      "31746             141.0               ok           6.0  \n",
      "32118               0.0               ok          10.0  \n",
      "34190             113.0               ok           5.0  \n",
      "34333             204.0               ok           3.0  \n",
      "36076             365.0               ok           4.0  \n",
      "37105              33.0               ok           5.0  \n",
      "38490             156.0               ok           5.0  \n",
      "40332             238.0               ok           7.0  \n",
      "41135               0.0               ok           3.0  \n",
      "42383              94.0               ok           7.0  \n",
      "42790             154.0               ok           6.0  \n",
      "43402             333.0               ok           NaN  \n",
      "44369              44.0               ok           6.0  \n",
      "45797             100.0               ok           6.0  \n",
      "47284             171.0               ok           NaN  \n",
      "47521              37.0               ok           NaN  \n",
      "48391             340.0               ok           7.0  \n",
      "48880             365.0               ok           NaN  \n",
      "48887             365.0               ok           NaN  \n",
      "\n",
      "[47 rows x 26 columns]\n"
     ]
    }
   ],
   "source": [
    "duplicate_coordinates = df[df.duplicated(subset=[\"latitude\", \"longitude\"], keep=False)]\n",
    "print(duplicate_coordinates)"
   ]
  },
  {
   "cell_type": "markdown",
   "id": "d29ebd4a-bc38-49f1-b902-929a9f155562",
   "metadata": {},
   "source": [
    "by looking at these data gave us the insight that there are host with fake or duplicate listing as well, Casue one host can't have more that 100 histing that just doesn't seems natural."
   ]
  },
  {
   "cell_type": "markdown",
   "id": "175ddfe4-cfbd-428b-92a2-f6fb0f8ce74b",
   "metadata": {},
   "source": [
    "### Review & Rating Analysis:"
   ]
  },
  {
   "cell_type": "markdown",
   "id": "4309f04e-9fe4-495d-95dc-9b967ceefa0d",
   "metadata": {},
   "source": [
    "#### Relationship between price and reviews (Do expensive places get better reviews?)."
   ]
  },
  {
   "cell_type": "code",
   "execution_count": 133,
   "id": "4db396dc-c431-4da9-83dc-d386e92724bd",
   "metadata": {},
   "outputs": [],
   "source": [
    "df[\"Price\"] = df[\"new_price\"].head(20)"
   ]
  },
  {
   "cell_type": "code",
   "execution_count": 135,
   "id": "76a0113b-192a-4ec9-a358-1e423c21f43a",
   "metadata": {},
   "outputs": [
    {
     "name": "stdout",
     "output_type": "stream",
     "text": [
      "Price\n",
      "79.0     548.0\n",
      "89.0     437.0\n",
      "140.0    408.0\n",
      "85.0     301.0\n",
      "215.0    198.0\n",
      "150.0    160.0\n",
      "200.0     74.0\n",
      "99.0      53.0\n",
      "135.0     53.0\n",
      "60.0      49.0\n",
      "225.0     45.0\n",
      "120.0     27.0\n",
      "80.0       9.0\n",
      "149.0      9.0\n",
      "190.0      0.0\n",
      "Name: number_of_reviews, dtype: float64\n"
     ]
    }
   ],
   "source": [
    "Expensive_place = df.groupby(\"Price\")[\"number_of_reviews\"].sum().sort_values(ascending = False)\n",
    "print(Expensive_place)"
   ]
  },
  {
   "cell_type": "code",
   "execution_count": 157,
   "id": "b1039e9d-fb05-42ad-aef0-8795f7568f36",
   "metadata": {},
   "outputs": [
    {
     "data": {
      "image/png": "[encoded data removed]",
      "text/plain": [
       "<Figure size 2500x700 with 1 Axes>"
      ]
     },
     "metadata": {},
     "output_type": "display_data"
    }
   ],
   "source": [
    "sns.barplot(x = \"Price\", y = \"number_of_reviews\", data = df)\n",
    "sns.set(rc={'figure.figsize':(25,7)})\n",
    "plt.xlabel(\"Price\")\n",
    "plt.ylabel(\"Number of Reviews\")\n",
    "plt.title(\"Relationship Between Price and Reviews\")\n",
    "plt.show()"
   ]
  },
  {
   "cell_type": "markdown",
   "id": "cced0af6-2cc8-4cb3-a8b4-f720e6e0be6a",
   "metadata": {},
   "source": [
    "Thus we can see that review is not directly affecting the customer rating."
   ]
  },
  {
   "cell_type": "markdown",
   "id": "7361b437-3924-4d5a-a905-d8476b766bb8",
   "metadata": {},
   "source": [
    "#### How do reviews differ across boroughs?"
   ]
  },
  {
   "cell_type": "code",
   "execution_count": 167,
   "id": "d14927b5-aa69-4b40-8d71-b3a64d88a0a9",
   "metadata": {},
   "outputs": [
    {
     "name": "stdout",
     "output_type": "stream",
     "text": [
      "Proper_trim_neighbourhood_grp\n",
      "Staten Island    30.941019\n",
      "Queens           27.700318\n",
      "Bronx            26.004583\n",
      "Brooklyn         24.202845\n",
      "Manhattan        20.985596\n",
      "Name: number_of_reviews, dtype: float64\n"
     ]
    }
   ],
   "source": [
    "borough_review = df.groupby(\"Proper_trim_neighbourhood_grp\")[\"number_of_reviews\"].mean().sort_values(ascending = False)\n",
    "print(borough_review)"
   ]
  },
  {
   "cell_type": "code",
   "execution_count": 169,
   "id": "5d0f0d77-fcaa-4103-a732-64e841623c5f",
   "metadata": {},
   "outputs": [
    {
     "data": {
      "text/plain": [
       "<Axes: xlabel='Proper_trim_neighbourhood_grp', ylabel='number_of_reviews'>"
      ]
     },
     "execution_count": 169,
     "metadata": {},
     "output_type": "execute_result"
    },
    {
     "data": {
      "image/png": "[encoded data removed]",
      "text/plain": [
       "<Figure size 2500x700 with 1 Axes>"
      ]
     },
     "metadata": {},
     "output_type": "display_data"
    }
   ],
   "source": [
    "sns.barplot(x = \"Proper_trim_neighbourhood_grp\", y = \"number_of_reviews\", data = df)"
   ]
  },
  {
   "cell_type": "markdown",
   "id": "39900fce-61a0-42cc-aafa-8136b9f8642b",
   "metadata": {},
   "source": [
    "Thus we can see that Staten Island has the most number of review that means it is attracting more customers, then Queens, Bronx, Brooklyn and Manhattan."
   ]
  },
  {
   "cell_type": "markdown",
   "id": "cdb4d90e-6e86-4ab1-9986-66bd78778282",
   "metadata": {},
   "source": [
    "#### Are highly-rated listings clustered in certain areas?"
   ]
  },
  {
   "cell_type": "code",
   "execution_count": 177,
   "id": "4ccadf95-7d40-4e99-b702-03b03d84dec5",
   "metadata": {},
   "outputs": [
    {
     "name": "stdout",
     "output_type": "stream",
     "text": [
      "Proper_trim_neighbourhood\n",
      "Silver Lake            118.500000\n",
      "East Elmhurst           81.659459\n",
      "Richmondtown            79.000000\n",
      "Eltingville             76.000000\n",
      "Mount Eden              70.000000\n",
      "Springfield Gardens     69.094118\n",
      "Tompkinsville           57.142857\n",
      "Huguenot                55.666667\n",
      "Manhattan Beach         50.625000\n",
      "Highbridge              48.814815\n",
      "Name: number_of_reviews, dtype: float64\n"
     ]
    }
   ],
   "source": [
    "high_rated_areas = df.groupby(\"Proper_trim_neighbourhood\")[\"number_of_reviews\"].mean().sort_values(ascending=False).head(10)\n",
    "print(high_rated_areas)"
   ]
  },
  {
   "cell_type": "markdown",
   "id": "490ae4d3-95fd-4abb-b8c6-7368ae8f931d",
   "metadata": {},
   "source": [
    "thus we can see that Silver Lake has the most review, then East Elmhurst, Richmondtown, Eltingivlle and so on."
   ]
  },
  {
   "cell_type": "code",
   "execution_count": 184,
   "id": "578f0ca2-b061-425a-87f4-a8bdc68ec239",
   "metadata": {},
   "outputs": [
    {
     "name": "stdout",
     "output_type": "stream",
     "text": [
      "Proper_trim_neighbourhood\n",
      "Williamsburg          3920\n",
      "Bedford-Stuyvesant    3714\n",
      "Harlem                2658\n",
      "Bushwick              2465\n",
      "Upper West Side       1971\n",
      "Hell'S Kitchen        1958\n",
      "East Village          1853\n",
      "Upper East Side       1798\n",
      "Crown Heights         1564\n",
      "Midtown               1545\n",
      "Name: host_id, dtype: int64\n"
     ]
    }
   ],
   "source": [
    "high_listing_areas = df.groupby(\"Proper_trim_neighbourhood\")[\"host_id\"].count().sort_values(ascending=False).head(10)\n",
    "print(high_listing_areas)"
   ]
  },
  {
   "cell_type": "markdown",
   "id": "dd526cbf-75e0-4468-a2c4-c2bc3dcaf620",
   "metadata": {},
   "source": [
    "from this we can observe that the areas which has most number of listing is different than the areas which has high rating of listing."
   ]
  },
  {
   "cell_type": "code",
   "execution_count": null,
   "id": "1519f815-d643-4d0a-907b-9b76d7ff4095",
   "metadata": {},
   "outputs": [],
   "source": []
  }
 ],
 "metadata": {
  "kernelspec": {
   "display_name": "Python 3 (ipykernel)",
   "language": "python",
   "name": "python3"
  },
  "language_info": {
   "codemirror_mode": {
    "name": "ipython",
    "version": 3
   },
   "file_extension": ".py",
   "mimetype": "text/x-python",
   "name": "python",
   "nbconvert_exporter": "python",
   "pygments_lexer": "ipython3",
   "version": "3.11.7"
  }
 },
 "nbformat": 4,
 "nbformat_minor": 5
}
